{
 "cells": [
  {
   "cell_type": "markdown",
   "metadata": {
    "collapsed": true
   },
   "source": [
    "# Lab 1\n",
    "## Instructions:\n",
    " * Get on a laptop with you and your partner.\n",
    " * Create a developer account at http://developer.foursquare.com \n",
    " * Explore the documentation and figure out how to explore venues.\n",
    " * Use the example code provided and make a request to explore food in the following cities:\n",
    "   *   Coffee Shop in Bet Shemesh\n",
    "   *   Hamburgers in Beit Jala\n",
    "   *   Falafel in Jerusalem\n",
    "\n",
    "__ you may need to run ```sudo pip install requests``` to use the necessary libraries __"
   ]
  },
  {
   "cell_type": "code",
   "execution_count": null,
   "metadata": {
    "collapsed": false
   },
   "outputs": [],
   "source": [
    "import json\n",
    "import requests\n",
    "import matplotlib.pyplot as plt\n",
    "from IPython.display import display, Image\n",
    "from IPython.display import Image\n",
    "from IPython.core.display import HTML \n",
    "\n",
    "foursquare_client_id = \"PASTE YOUR CLIENT ID HERE\"\n",
    "foursquare_client_secret = \"PASTE YOUR CLIENT SECRET HERE\"\n",
    "\n",
    "\n",
    "def findARestaurant(mealType,location):\n",
    "\n",
    "#1.  Use foursquare API to find a nearby restaurant with the location and mealType strings.\n",
    "#HINT: format for url will be something like https://api.foursquare.com/v2/venues/search?client_id=CLIENT_ID&client_secret=CLIENT_SECRET&v=20130815&near=Chicago&query=sushi\n",
    "#2. Grab the first restaurant\n",
    "#3. Get a  300x300 picture of the restaurant using the venue_id (you can change this by altering the 300x300 value in the URL or replacing it with 'orginal' to get the original picture\n",
    "#4. Grab the first image\n",
    "#5. If no image is available, insert default a image url\n",
    "#6. Return a dictionary containing the restaurant name, address, and image url\n"
   ]
  },
  {
   "cell_type": "code",
   "execution_count": null,
   "metadata": {
    "collapsed": false,
    "scrolled": false
   },
   "outputs": [],
   "source": [
    "findARestaurant(\"Sushi\", \"Tel Aviv\")\n",
    "findARestaurant(\"Ribs\", \"Beit Jala\")\n",
    "findARestaurant(\"Falafel\", \"Jerusalem\")"
   ]
  },
  {
   "cell_type": "markdown",
   "metadata": {},
   "source": [
    "Now try finding restaurants all over the world!"
   ]
  },
  {
   "cell_type": "code",
   "execution_count": null,
   "metadata": {
    "collapsed": true
   },
   "outputs": [],
   "source": [
    "findARestaurant(\"Pizza\", \"Tokyo, Japan\")\n",
    "findARestaurant(\"Tacos\", \"Jakarta, Indonesia\")\n",
    "findARestaurant(\"Tapas\", \"Maputo, Mozambique\")\n",
    "findARestaurant(\"Falafel\", \"Cairo, Egypt\")\n",
    "findARestaurant(\"Spaghetti\", \"New Delhi, India\")\n",
    "findARestaurant(\"Cappuccino\", \"Geneva, Switzerland\")\n",
    "findARestaurant(\"Sushi\", \"Los Angeles, California\")\n",
    "findARestaurant(\"Steak\", \"La Paz, Bolivia\")\n",
    "findARestaurant(\"Gyros\", \"Sydney Australia\")"
   ]
  }
 ],
 "metadata": {
  "kernelspec": {
   "display_name": "Python [Root]",
   "language": "python",
   "name": "Python [Root]"
  },
  "language_info": {
   "codemirror_mode": {
    "name": "ipython",
    "version": 3
   },
   "file_extension": ".py",
   "mimetype": "text/x-python",
   "name": "python",
   "nbconvert_exporter": "python",
   "pygments_lexer": "ipython3",
   "version": "3.5.2"
  }
 },
 "nbformat": 4,
 "nbformat_minor": 0
}
